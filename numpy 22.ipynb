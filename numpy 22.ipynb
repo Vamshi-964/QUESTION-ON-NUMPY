{
 "cells": [
  {
   "cell_type": "code",
   "execution_count": 19,
   "id": "c8bb09ab",
   "metadata": {},
   "outputs": [
    {
     "name": "stdout",
     "output_type": "stream",
     "text": [
      "[[1, 3], [2, 2], [-4, 8]]\n",
      "[-6, -4, -2, 1, 2, 2, 3, 8]\n",
      "[[-2, 2, 8], [-2, 2, 8]]\n"
     ]
    }
   ],
   "source": [
    "def number(nums, target):\n",
    "    result = []\n",
    "    for i in range(len(nums)):\n",
    "        for j in range(i + 1, len(nums)):\n",
    "            if nums[i] + nums[j] == target:\n",
    "                result.append([nums[i], nums[j]])\n",
    "    return result\n",
    "def merging(nums):\n",
    "    nums.sort()\n",
    "    return nums\n",
    "def numbers(nums, target):\n",
    "    result = []\n",
    "    for i in range(len(nums)):\n",
    "        for j in range(i + 1, len(nums)):\n",
    "            for k in range(j + 1, len(nums)):\n",
    "                if nums[i] + nums[j] + nums[k] == target:\n",
    "                    result.append([nums[i], nums[j], nums[k]])\n",
    "    return result\n",
    "def main():\n",
    "    nums = [1, 3, 2, 2, -4, -6, -2, 8]\n",
    "    target = 4\n",
    "    print(number(nums, target))\n",
    "    nums = merging(nums)\n",
    "    print(nums)\n",
    "    target = 8\n",
    "    print(numbers(nums, target))\n",
    "if __name__ == \"__main__\":\n",
    "    main()"
   ]
  },
  {
   "cell_type": "code",
   "execution_count": null,
   "id": "f682029f",
   "metadata": {},
   "outputs": [],
   "source": []
  }
 ],
 "metadata": {
  "kernelspec": {
   "display_name": "Python 3 (ipykernel)",
   "language": "python",
   "name": "python3"
  },
  "language_info": {
   "codemirror_mode": {
    "name": "ipython",
    "version": 3
   },
   "file_extension": ".py",
   "mimetype": "text/x-python",
   "name": "python",
   "nbconvert_exporter": "python",
   "pygments_lexer": "ipython3",
   "version": "3.9.13"
  }
 },
 "nbformat": 4,
 "nbformat_minor": 5
}
